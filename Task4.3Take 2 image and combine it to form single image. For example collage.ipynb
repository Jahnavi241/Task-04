{
 "cells": [
  {
   "cell_type": "code",
   "execution_count": 15,
   "id": "bc4ef7cd",
   "metadata": {},
   "outputs": [],
   "source": [
    "import cv2\n",
    "import numpy as np"
   ]
  },
  {
   "cell_type": "code",
   "execution_count": 16,
   "id": "64658ec6",
   "metadata": {},
   "outputs": [],
   "source": [
    "n1= cv2.imread(\"nature.jpg\")\n",
    "n2= cv2.imread(\"nature2.jpg\")"
   ]
  },
  {
   "cell_type": "code",
   "execution_count": 17,
   "id": "0df584da",
   "metadata": {},
   "outputs": [],
   "source": [
    "cv2.imshow('HI',n1)\n",
    "cv2.waitKey()\n",
    "cv2.destroyAllWindows()"
   ]
  },
  {
   "cell_type": "code",
   "execution_count": 18,
   "id": "09f2e9ad",
   "metadata": {},
   "outputs": [
    {
     "data": {
      "text/plain": [
       "(340, 534, 3)"
      ]
     },
     "execution_count": 18,
     "metadata": {},
     "output_type": "execute_result"
    }
   ],
   "source": [
    "n1.shape"
   ]
  },
  {
   "cell_type": "code",
   "execution_count": 19,
   "id": "3e0f877a",
   "metadata": {},
   "outputs": [
    {
     "data": {
      "text/plain": [
       "(340, 582, 3)"
      ]
     },
     "execution_count": 19,
     "metadata": {},
     "output_type": "execute_result"
    }
   ],
   "source": [
    "n2.shape"
   ]
  },
  {
   "cell_type": "code",
   "execution_count": 20,
   "id": "bff2064b",
   "metadata": {},
   "outputs": [],
   "source": [
    "no= n1[ :414 , :600]\n",
    "n0= n2[: , :600]"
   ]
  },
  {
   "cell_type": "code",
   "execution_count": 21,
   "id": "c82dc66b",
   "metadata": {},
   "outputs": [
    {
     "data": {
      "text/plain": [
       "(340, 582, 3)"
      ]
     },
     "execution_count": 21,
     "metadata": {},
     "output_type": "execute_result"
    }
   ],
   "source": [
    "no.shape\n",
    "n0.shape"
   ]
  },
  {
   "cell_type": "code",
   "execution_count": 22,
   "id": "a05d1682",
   "metadata": {},
   "outputs": [],
   "source": [
    "cv2.imshow('Hello',n0)\n",
    "cv2.waitKey()\n",
    "cv2.destroyAllWindows()"
   ]
  },
  {
   "cell_type": "code",
   "execution_count": 23,
   "id": "d1298008",
   "metadata": {},
   "outputs": [],
   "source": [
    "collage_img = np.hstack((no,n0))"
   ]
  },
  {
   "cell_type": "code",
   "execution_count": 24,
   "id": "a8ca1425",
   "metadata": {},
   "outputs": [],
   "source": [
    "cv2.imshow('Hi Hello',collage_img)\n",
    "cv2.waitKey()\n",
    "cv2.destroyAllWindows()"
   ]
  },
  {
   "cell_type": "code",
   "execution_count": null,
   "id": "9f70e8e8",
   "metadata": {},
   "outputs": [],
   "source": []
  }
 ],
 "metadata": {
  "kernelspec": {
   "display_name": "Python 3",
   "language": "python",
   "name": "python3"
  },
  "language_info": {
   "codemirror_mode": {
    "name": "ipython",
    "version": 3
   },
   "file_extension": ".py",
   "mimetype": "text/x-python",
   "name": "python",
   "nbconvert_exporter": "python",
   "pygments_lexer": "ipython3",
   "version": "3.8.8"
  }
 },
 "nbformat": 4,
 "nbformat_minor": 5
}
