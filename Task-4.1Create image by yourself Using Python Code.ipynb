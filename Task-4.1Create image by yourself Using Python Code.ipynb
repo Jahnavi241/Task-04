{
 "cells": [
  {
   "cell_type": "code",
   "execution_count": 1,
   "id": "e34a566e",
   "metadata": {},
   "outputs": [],
   "source": [
    "#Import the required Libraries \n",
    "import numpy as np\n",
    "import cv2 as cv"
   ]
  },
  {
   "cell_type": "code",
   "execution_count": 2,
   "id": "ef7dc467",
   "metadata": {},
   "outputs": [],
   "source": [
    "photo = np.zeros((512, 512, 3), dtype = \"uint8\")\n",
    "photo[:] = [255, 255, 255]"
   ]
  },
  {
   "cell_type": "code",
   "execution_count": 3,
   "id": "b73e854d",
   "metadata": {},
   "outputs": [
    {
     "data": {
      "text/plain": [
       "array([[[255, 255, 255],\n",
       "        [255, 255, 255],\n",
       "        [255, 255, 255],\n",
       "        ...,\n",
       "        [255, 255, 255],\n",
       "        [255, 255, 255],\n",
       "        [255, 255, 255]],\n",
       "\n",
       "       [[255, 255, 255],\n",
       "        [255, 255, 255],\n",
       "        [255, 255, 255],\n",
       "        ...,\n",
       "        [255, 255, 255],\n",
       "        [255, 255, 255],\n",
       "        [255, 255, 255]],\n",
       "\n",
       "       [[255, 255, 255],\n",
       "        [255, 255, 255],\n",
       "        [255, 255, 255],\n",
       "        ...,\n",
       "        [255, 255, 255],\n",
       "        [255, 255, 255],\n",
       "        [255, 255, 255]],\n",
       "\n",
       "       ...,\n",
       "\n",
       "       [[255, 255, 255],\n",
       "        [255, 255, 255],\n",
       "        [255, 255, 255],\n",
       "        ...,\n",
       "        [255, 255, 255],\n",
       "        [255, 255, 255],\n",
       "        [255, 255, 255]],\n",
       "\n",
       "       [[255, 255, 255],\n",
       "        [255, 255, 255],\n",
       "        [255, 255, 255],\n",
       "        ...,\n",
       "        [255, 255, 255],\n",
       "        [255, 255, 255],\n",
       "        [255, 255, 255]],\n",
       "\n",
       "       [[255, 255, 255],\n",
       "        [255, 255, 255],\n",
       "        [255, 255, 255],\n",
       "        ...,\n",
       "        [255, 255, 255],\n",
       "        [255, 255, 255],\n",
       "        [255, 255, 255]]], dtype=uint8)"
      ]
     },
     "execution_count": 3,
     "metadata": {},
     "output_type": "execute_result"
    }
   ],
   "source": [
    "#creating emoji\n",
    "cv.circle(photo, (256, 256), radius=100, color=[0, 0, 0], thickness=2)\n",
    "# Eyes\n",
    "cv.circle(photo, (220, 220), radius=10, color=[0, 0, 0], thickness=-1)\n",
    "cv.circle(photo, (286, 220), radius=10, color=[0, 0, 0], thickness=-1)\n",
    "# Nose\n",
    "cv.circle(photo, (253, 270), radius=8, color=[0, 0, 0], thickness=-1)\n",
    "cv.line(photo, (245, 270), (253, 245), [0, 0, 0], 2)\n",
    "cv.line(photo, (261, 270), (253, 245), [0, 0, 0], 2)\n",
    "# Mouth\n",
    "cv.ellipse(photo,(256,290),(60,30),0,0,180,0,-1)"
   ]
  },
  {
   "cell_type": "code",
   "execution_count": 4,
   "id": "b1140a73",
   "metadata": {},
   "outputs": [
    {
     "data": {
      "text/plain": [
       "True"
      ]
     },
     "execution_count": 4,
     "metadata": {},
     "output_type": "execute_result"
    }
   ],
   "source": [
    "# To save the file\n",
    "cv.imwrite(\"emoji.jpg\", photo)"
   ]
  },
  {
   "cell_type": "code",
   "execution_count": 7,
   "id": "5cff3824",
   "metadata": {},
   "outputs": [],
   "source": [
    "#To  view the image  \n",
    "\n",
    "cv.imshow('red', photo)\n",
    "# Allows us to see image\n",
    "# untill closed forcefully\n",
    "cv.waitKey(10000) \n",
    "\n",
    "cv.destroyAllWindows()"
   ]
  },
  {
   "cell_type": "code",
   "execution_count": null,
   "id": "c901c99c",
   "metadata": {},
   "outputs": [],
   "source": []
  },
  {
   "cell_type": "code",
   "execution_count": null,
   "id": "e196c5e0",
   "metadata": {},
   "outputs": [],
   "source": []
  }
 ],
 "metadata": {
  "kernelspec": {
   "display_name": "Python 3",
   "language": "python",
   "name": "python3"
  },
  "language_info": {
   "codemirror_mode": {
    "name": "ipython",
    "version": 3
   },
   "file_extension": ".py",
   "mimetype": "text/x-python",
   "name": "python",
   "nbconvert_exporter": "python",
   "pygments_lexer": "ipython3",
   "version": "3.8.8"
  }
 },
 "nbformat": 4,
 "nbformat_minor": 5
}
